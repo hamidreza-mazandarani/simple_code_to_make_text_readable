{
 "cells": [
  {
   "cell_type": "code",
   "execution_count": 1,
   "id": "58b5abc1",
   "metadata": {},
   "outputs": [],
   "source": [
    "sample_en_string_1 = 'Some people claim that a text with bold first letters is easier to read and understand. What is your opinion?'\n",
    "sample_en_string_2 = 'If you agree, you can use the simple function I have written.'"
   ]
  },
  {
   "cell_type": "code",
   "execution_count": 2,
   "id": "2c4b0dd0",
   "metadata": {},
   "outputs": [],
   "source": [
    "sample_fa_string_1 = 'برخی ادعا میکنند خواندن متنی که حرف اول هر واژه آن بولد شده ساده تر است. نظر شما چیست؟ '\n",
    "sample_fa_string_2 = 'اگر موافق هستید میتوانید از تابع ساده ای که من نوشتم استفاده کنید'"
   ]
  },
  {
   "cell_type": "code",
   "execution_count": 3,
   "id": "304664e3",
   "metadata": {},
   "outputs": [],
   "source": [
    "def make_fisrt_letter_bold(input_string):\n",
    "    modified_string = []\n",
    "\n",
    "    for word in input_string.split():\n",
    "        for i, ch in enumerate(word):\n",
    "            if i == 0:\n",
    "                modified_string.extend(['\\033[1m ', ch, '\\033[0m'])\n",
    "            else:\n",
    "                modified_string.extend(ch)\n",
    "\n",
    "    return ''.join(modified_string)                   "
   ]
  },
  {
   "cell_type": "code",
   "execution_count": 4,
   "id": "bb163f8e",
   "metadata": {},
   "outputs": [
    {
     "name": "stdout",
     "output_type": "stream",
     "text": [
      "\u001b[1m ب\u001b[0mرخی\u001b[1m ا\u001b[0mدعا\u001b[1m م\u001b[0mیکنند\u001b[1m خ\u001b[0mواندن\u001b[1m م\u001b[0mتنی\u001b[1m ک\u001b[0mه\u001b[1m ح\u001b[0mرف\u001b[1m ا\u001b[0mول\u001b[1m ه\u001b[0mر\u001b[1m و\u001b[0mاژه\u001b[1m آ\u001b[0mن\u001b[1m ب\u001b[0mولد\u001b[1m ش\u001b[0mده\u001b[1m س\u001b[0mاده\u001b[1m ت\u001b[0mر\u001b[1m ا\u001b[0mست.\u001b[1m ن\u001b[0mظر\u001b[1m ش\u001b[0mما\u001b[1m چ\u001b[0mیست؟\n",
      "\u001b[1m ا\u001b[0mگر\u001b[1m م\u001b[0mوافق\u001b[1m ه\u001b[0mستید\u001b[1m م\u001b[0mیتوانید\u001b[1m ا\u001b[0mز\u001b[1m ت\u001b[0mابع\u001b[1m س\u001b[0mاده\u001b[1m ا\u001b[0mی\u001b[1m ک\u001b[0mه\u001b[1m م\u001b[0mن\u001b[1m ن\u001b[0mوشتم\u001b[1m ا\u001b[0mستفاده\u001b[1m ک\u001b[0mنید\n"
     ]
    }
   ],
   "source": [
    "print(make_fisrt_letter_bold(sample_fa_string_1))\n",
    "print(make_fisrt_letter_bold(sample_fa_string_2))"
   ]
  },
  {
   "cell_type": "code",
   "execution_count": 5,
   "id": "dfe530f0",
   "metadata": {},
   "outputs": [
    {
     "name": "stdout",
     "output_type": "stream",
     "text": [
      "\u001b[1m S\u001b[0mome\u001b[1m p\u001b[0meople\u001b[1m c\u001b[0mlaim\u001b[1m t\u001b[0mhat\u001b[1m a\u001b[0m\u001b[1m t\u001b[0mext\u001b[1m w\u001b[0mith\u001b[1m b\u001b[0mold\u001b[1m f\u001b[0mirst\u001b[1m l\u001b[0metters\u001b[1m i\u001b[0ms\u001b[1m e\u001b[0masier\u001b[1m t\u001b[0mo\u001b[1m r\u001b[0mead\u001b[1m a\u001b[0mnd\u001b[1m u\u001b[0mnderstand.\u001b[1m W\u001b[0mhat\u001b[1m i\u001b[0ms\u001b[1m y\u001b[0mour\u001b[1m o\u001b[0mpinion?\n",
      "\u001b[1m I\u001b[0mf\u001b[1m y\u001b[0mou\u001b[1m a\u001b[0mgree,\u001b[1m y\u001b[0mou\u001b[1m c\u001b[0man\u001b[1m u\u001b[0mse\u001b[1m t\u001b[0mhe\u001b[1m s\u001b[0mimple\u001b[1m f\u001b[0munction\u001b[1m I\u001b[0m\u001b[1m h\u001b[0mave\u001b[1m w\u001b[0mritten.\n"
     ]
    }
   ],
   "source": [
    "print(make_fisrt_letter_bold(sample_en_string_1))\n",
    "print(make_fisrt_letter_bold(sample_en_string_2))"
   ]
  },
  {
   "cell_type": "code",
   "execution_count": null,
   "id": "da94ee2d",
   "metadata": {},
   "outputs": [],
   "source": []
  }
 ],
 "metadata": {
  "kernelspec": {
   "display_name": "Python 3 (ipykernel)",
   "language": "python",
   "name": "python3"
  },
  "language_info": {
   "codemirror_mode": {
    "name": "ipython",
    "version": 3
   },
   "file_extension": ".py",
   "mimetype": "text/x-python",
   "name": "python",
   "nbconvert_exporter": "python",
   "pygments_lexer": "ipython3",
   "version": "3.9.15"
  }
 },
 "nbformat": 4,
 "nbformat_minor": 5
}
